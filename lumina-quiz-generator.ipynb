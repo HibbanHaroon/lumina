{
  "nbformat": 4,
  "nbformat_minor": 0,
  "metadata": {
    "colab": {
      "provenance": []
    },
    "kernelspec": {
      "name": "python3",
      "display_name": "Python 3"
    },
    "language_info": {
      "name": "python"
    }
  },
  "cells": [
    {
      "cell_type": "markdown",
      "source": [
        "**AssemblyAI Video Transcriber**"
      ],
      "metadata": {
        "id": "d8g-o-UOUAMx"
      }
    },
    {
      "cell_type": "code",
      "source": [
        "pip install assemblyai"
      ],
      "metadata": {
        "colab": {
          "base_uri": "https://localhost:8080/"
        },
        "id": "qhCKZvzyPi4L",
        "outputId": "392d4e61-69fc-4545-f7ed-ea3568286508"
      },
      "execution_count": 1,
      "outputs": [
        {
          "output_type": "stream",
          "name": "stdout",
          "text": [
            "Requirement already satisfied: assemblyai in /usr/local/lib/python3.10/dist-packages (0.17.0)\n",
            "Requirement already satisfied: httpx>=0.19.0 in /usr/local/lib/python3.10/dist-packages (from assemblyai) (0.25.0)\n",
            "Requirement already satisfied: pydantic!=1.10.7,>=1.7.0 in /usr/local/lib/python3.10/dist-packages (from assemblyai) (1.10.12)\n",
            "Requirement already satisfied: typing-extensions>=3.7 in /usr/local/lib/python3.10/dist-packages (from assemblyai) (4.5.0)\n",
            "Requirement already satisfied: websockets>=11.0 in /usr/local/lib/python3.10/dist-packages (from assemblyai) (11.0.3)\n",
            "Requirement already satisfied: certifi in /usr/local/lib/python3.10/dist-packages (from httpx>=0.19.0->assemblyai) (2023.7.22)\n",
            "Requirement already satisfied: httpcore<0.19.0,>=0.18.0 in /usr/local/lib/python3.10/dist-packages (from httpx>=0.19.0->assemblyai) (0.18.0)\n",
            "Requirement already satisfied: idna in /usr/local/lib/python3.10/dist-packages (from httpx>=0.19.0->assemblyai) (3.4)\n",
            "Requirement already satisfied: sniffio in /usr/local/lib/python3.10/dist-packages (from httpx>=0.19.0->assemblyai) (1.3.0)\n",
            "Requirement already satisfied: anyio<5.0,>=3.0 in /usr/local/lib/python3.10/dist-packages (from httpcore<0.19.0,>=0.18.0->httpx>=0.19.0->assemblyai) (3.7.1)\n",
            "Requirement already satisfied: h11<0.15,>=0.13 in /usr/local/lib/python3.10/dist-packages (from httpcore<0.19.0,>=0.18.0->httpx>=0.19.0->assemblyai) (0.14.0)\n",
            "Requirement already satisfied: exceptiongroup in /usr/local/lib/python3.10/dist-packages (from anyio<5.0,>=3.0->httpcore<0.19.0,>=0.18.0->httpx>=0.19.0->assemblyai) (1.1.3)\n"
          ]
        }
      ]
    },
    {
      "cell_type": "code",
      "source": [
        "pip install pytube3"
      ],
      "metadata": {
        "colab": {
          "base_uri": "https://localhost:8080/"
        },
        "id": "vrq163oNWzHt",
        "outputId": "013c54ce-2fa0-4c48-9cff-19a2b6beeb7a"
      },
      "execution_count": 2,
      "outputs": [
        {
          "output_type": "stream",
          "name": "stdout",
          "text": [
            "Requirement already satisfied: pytube3 in /usr/local/lib/python3.10/dist-packages (9.6.4)\n",
            "Requirement already satisfied: typing-extensions in /usr/local/lib/python3.10/dist-packages (from pytube3) (4.5.0)\n"
          ]
        }
      ]
    },
    {
      "cell_type": "code",
      "source": [
        "pip install os_sys"
      ],
      "metadata": {
        "colab": {
          "base_uri": "https://localhost:8080/"
        },
        "id": "IvYQ8dyJXE9q",
        "outputId": "99dc5258-cb0e-455c-ea6d-132e9e27d401"
      },
      "execution_count": 3,
      "outputs": [
        {
          "output_type": "stream",
          "name": "stdout",
          "text": [
            "Collecting os_sys\n",
            "  Using cached os_sys-2.1.4-py3-none-any.whl (15.6 MB)\n",
            "Collecting pygubu (from os_sys)\n",
            "  Using cached pygubu-0.31-py3-none-any.whl (118 kB)\n",
            "Requirement already satisfied: pytz in /usr/local/lib/python3.10/dist-packages (from os_sys) (2023.3.post1)\n",
            "Requirement already satisfied: sqlparse in /usr/local/lib/python3.10/dist-packages (from os_sys) (0.4.4)\n",
            "Collecting progress (from os_sys)\n",
            "  Using cached progress-1.6.tar.gz (7.8 kB)\n",
            "  Preparing metadata (setup.py) ... \u001b[?25l\u001b[?25hdone\n",
            "Requirement already satisfied: tqdm in /usr/local/lib/python3.10/dist-packages (from os_sys) (4.66.1)\n",
            "Collecting progressbar (from os_sys)\n",
            "  Using cached progressbar-2.5.tar.gz (10 kB)\n",
            "  Preparing metadata (setup.py) ... \u001b[?25l\u001b[?25hdone\n",
            "Requirement already satisfied: matplotlib in /usr/local/lib/python3.10/dist-packages (from os_sys) (3.7.1)\n",
            "Requirement already satisfied: numpy in /usr/local/lib/python3.10/dist-packages (from os_sys) (1.23.5)\n",
            "Requirement already satisfied: six in /usr/local/lib/python3.10/dist-packages (from os_sys) (1.16.0)\n",
            "Collecting jupyter (from os_sys)\n",
            "  Using cached jupyter-1.0.0-py2.py3-none-any.whl (2.7 kB)\n",
            "Requirement already satisfied: pandas in /usr/local/lib/python3.10/dist-packages (from os_sys) (1.5.3)\n",
            "Requirement already satisfied: beautifulsoup4 in /usr/local/lib/python3.10/dist-packages (from os_sys) (4.11.2)\n",
            "Collecting Eel (from os_sys)\n",
            "  Using cached Eel-0.16.0.tar.gz (24 kB)\n",
            "  Preparing metadata (setup.py) ... \u001b[?25l\u001b[?25hdone\n",
            "Collecting extract-zip (from os_sys)\n",
            "  Using cached extract_zip-1.0.0-py3-none-any.whl (2.6 kB)\n",
            "INFO: pip is looking at multiple versions of os-sys to determine which version is compatible with other requirements. This could take a while.\n",
            "Collecting os_sys\n",
            "  Using cached os_sys-2.1.3-py3-none-any.whl (15.5 MB)\n",
            "  Using cached os_sys-2.1.2-py3-none-any.whl (15.4 MB)\n",
            "  Using cached os_sys-2.1.1-py3-none-any.whl (15.4 MB)\n",
            "  Using cached os_sys-2.1.0-py3-none-any.whl (15.9 MB)\n",
            "  Using cached os_sys-2.0.9-py3-none-any.whl (15.4 MB)\n",
            "  Using cached os_sys-2.0.8-py3-none-any.whl (15.4 MB)\n",
            "  Using cached os_sys-2.0.7-py3-none-any.whl (14.2 MB)\n",
            "INFO: pip is looking at multiple versions of os-sys to determine which version is compatible with other requirements. This could take a while.\n",
            "  Using cached os_sys-2.0.6-py3-none-any.whl (14.2 MB)\n",
            "  Using cached os_sys-2.0.5-py3-none-any.whl (12.2 MB)\n",
            "  Using cached os_sys-2.0.4-py3-none-any.whl (50.9 MB)\n",
            "Collecting webview (from os_sys)\n",
            "  Using cached webview-0.1.5.tar.gz (18 kB)\n",
            "  \u001b[1;31merror\u001b[0m: \u001b[1msubprocess-exited-with-error\u001b[0m\n",
            "  \n",
            "  \u001b[31m×\u001b[0m \u001b[32mpython setup.py egg_info\u001b[0m did not run successfully.\n",
            "  \u001b[31m│\u001b[0m exit code: \u001b[1;36m1\u001b[0m\n",
            "  \u001b[31m╰─>\u001b[0m See above for output.\n",
            "  \n",
            "  \u001b[1;35mnote\u001b[0m: This error originates from a subprocess, and is likely not a problem with pip.\n",
            "  Preparing metadata (setup.py) ... \u001b[?25l\u001b[?25herror\n",
            "\u001b[1;31merror\u001b[0m: \u001b[1mmetadata-generation-failed\u001b[0m\n",
            "\n",
            "\u001b[31m×\u001b[0m Encountered error while generating package metadata.\n",
            "\u001b[31m╰─>\u001b[0m See above for output.\n",
            "\n",
            "\u001b[1;35mnote\u001b[0m: This is an issue with the package mentioned above, not pip.\n",
            "\u001b[1;36mhint\u001b[0m: See above for details.\n"
          ]
        }
      ]
    },
    {
      "cell_type": "code",
      "source": [
        "pip install --upgrade pytube"
      ],
      "metadata": {
        "colab": {
          "base_uri": "https://localhost:8080/",
          "height": 200
        },
        "id": "0crlb8vFS8Cx",
        "outputId": "4dc96985-ebe9-411d-ea84-f240374506a1"
      },
      "execution_count": 7,
      "outputs": [
        {
          "output_type": "stream",
          "name": "stdout",
          "text": [
            "Collecting pytube\n",
            "  Downloading pytube-15.0.0-py3-none-any.whl (57 kB)\n",
            "\u001b[?25l     \u001b[90m━━━━━━━━━━━━━━━━━━━━━━━━━━━━━━━━━━━━━━━━\u001b[0m \u001b[32m0.0/57.6 kB\u001b[0m \u001b[31m?\u001b[0m eta \u001b[36m-:--:--\u001b[0m\r\u001b[2K     \u001b[90m━━━━━━━━━━━━━━━━━━━━━━━━━━━━━━━━━━━━━━━━\u001b[0m \u001b[32m57.6/57.6 kB\u001b[0m \u001b[31m2.1 MB/s\u001b[0m eta \u001b[36m0:00:00\u001b[0m\n",
            "\u001b[?25hInstalling collected packages: pytube\n",
            "Successfully installed pytube-15.0.0\n"
          ]
        },
        {
          "output_type": "display_data",
          "data": {
            "application/vnd.colab-display-data+json": {
              "pip_warning": {
                "packages": [
                  "pytube"
                ]
              }
            }
          },
          "metadata": {}
        }
      ]
    },
    {
      "cell_type": "code",
      "source": [
        "# importing packages\n",
        "from pytube import YouTube\n",
        "import os\n",
        "\n",
        "# url input from user\n",
        "yt = YouTube(\n",
        "\tstr(input(\"Enter the URL of the video you want to download: \\n>> \")))\n",
        "\n",
        "# extract only audio\n",
        "video = yt.streams.filter(only_audio=True).first()\n",
        "\n",
        "# check for destination to save file\n",
        "print(\"Enter the destination (leave blank for current directory)\")\n",
        "destination = str(input(\">> \")) or '.'\n",
        "\n",
        "# download the file\n",
        "out_file = video.download(output_path=destination)\n",
        "\n",
        "# save the file\n",
        "base, ext = os.path.splitext(out_file)\n",
        "new_file = base + '.mp3'\n",
        "os.rename(out_file, new_file)\n",
        "\n",
        "# result of success\n",
        "print(yt.title + \" has been successfully downloaded.\")\n"
      ],
      "metadata": {
        "colab": {
          "base_uri": "https://localhost:8080/"
        },
        "id": "8v9em34sXIS6",
        "outputId": "d6325837-3462-49fd-8347-cd5d605e28d9"
      },
      "execution_count": 4,
      "outputs": [
        {
          "output_type": "stream",
          "name": "stdout",
          "text": [
            "Enter the URL of the video you want to download: \n",
            ">> https://www.youtube.com/watch?v=rs9AFEebHsk\n",
            "Enter the destination (leave blank for current directory)\n",
            ">> \n",
            "Introduction to Psychology: 2.1 - The Brain and Behavior - Nervous System and Neurons has been successfully downloaded.\n"
          ]
        }
      ]
    },
    {
      "cell_type": "code",
      "source": [
        "pip install -U assemblyai"
      ],
      "metadata": {
        "colab": {
          "base_uri": "https://localhost:8080/"
        },
        "id": "o7NB1r9pYBH3",
        "outputId": "5717f782-b033-481b-c232-be3c22f7171e"
      },
      "execution_count": 5,
      "outputs": [
        {
          "output_type": "stream",
          "name": "stdout",
          "text": [
            "Requirement already satisfied: assemblyai in /usr/local/lib/python3.10/dist-packages (0.17.0)\n",
            "Requirement already satisfied: httpx>=0.19.0 in /usr/local/lib/python3.10/dist-packages (from assemblyai) (0.25.0)\n",
            "Requirement already satisfied: pydantic!=1.10.7,>=1.7.0 in /usr/local/lib/python3.10/dist-packages (from assemblyai) (1.10.12)\n",
            "Requirement already satisfied: typing-extensions>=3.7 in /usr/local/lib/python3.10/dist-packages (from assemblyai) (4.5.0)\n",
            "Requirement already satisfied: websockets>=11.0 in /usr/local/lib/python3.10/dist-packages (from assemblyai) (11.0.3)\n",
            "Requirement already satisfied: certifi in /usr/local/lib/python3.10/dist-packages (from httpx>=0.19.0->assemblyai) (2023.7.22)\n",
            "Requirement already satisfied: httpcore<0.19.0,>=0.18.0 in /usr/local/lib/python3.10/dist-packages (from httpx>=0.19.0->assemblyai) (0.18.0)\n",
            "Requirement already satisfied: idna in /usr/local/lib/python3.10/dist-packages (from httpx>=0.19.0->assemblyai) (3.4)\n",
            "Requirement already satisfied: sniffio in /usr/local/lib/python3.10/dist-packages (from httpx>=0.19.0->assemblyai) (1.3.0)\n",
            "Requirement already satisfied: anyio<5.0,>=3.0 in /usr/local/lib/python3.10/dist-packages (from httpcore<0.19.0,>=0.18.0->httpx>=0.19.0->assemblyai) (3.7.1)\n",
            "Requirement already satisfied: h11<0.15,>=0.13 in /usr/local/lib/python3.10/dist-packages (from httpcore<0.19.0,>=0.18.0->httpx>=0.19.0->assemblyai) (0.14.0)\n",
            "Requirement already satisfied: exceptiongroup in /usr/local/lib/python3.10/dist-packages (from anyio<5.0,>=3.0->httpcore<0.19.0,>=0.18.0->httpx>=0.19.0->assemblyai) (1.1.3)\n"
          ]
        }
      ]
    },
    {
      "cell_type": "code",
      "source": [
        "import assemblyai as aai\n",
        "\n",
        "aai.settings.api_key = f\"50905bbd768d489eb14b8ac6b0f45d36\""
      ],
      "metadata": {
        "id": "YlvDoBUiYFZx"
      },
      "execution_count": 6,
      "outputs": []
    },
    {
      "cell_type": "code",
      "source": [
        "transcriber = aai.Transcriber()"
      ],
      "metadata": {
        "id": "Zjgcw11yYbN8"
      },
      "execution_count": 7,
      "outputs": []
    },
    {
      "cell_type": "code",
      "source": [
        "transcript = transcriber.transcribe(new_file)"
      ],
      "metadata": {
        "id": "hgz04ba3YdZ2"
      },
      "execution_count": 8,
      "outputs": []
    },
    {
      "cell_type": "code",
      "source": [
        "print(transcript.text)"
      ],
      "metadata": {
        "colab": {
          "base_uri": "https://localhost:8080/"
        },
        "id": "B5CLbXgSYndX",
        "outputId": "0fd0d007-dad8-4105-cfd1-dfcb83ba303e"
      },
      "execution_count": 9,
      "outputs": [
        {
          "output_type": "stream",
          "name": "stdout",
          "text": [
            "Hi, Kristen Atchison here, and we are talking about our chapter on brain behavior. Specifically, in this lecture, we're going to talk about the nervous system and neurons. So first, some kind of overarching neurological stuff, some stuff about the nervous system. We have two pathways that carry information. The first one is afferent, and that carries information from our body to our brain. So these are nerves that carry information, say from our fingers to our brain. They're going towards the brain, whereas efferent nerves go from our brain towards our fingers. So we have two different pathways of information. Kind of think of it like a divided highway, right? And you have like an east going and a west going. It's the same thing. We have afferent nerves and we have afferent nerves. We also have divisions within our nervous system as a whole. We have the central nervous system that we'll spend more time talking about when we talk about the brain. And that is made up of our brain and our spinal cord. So that has a lot of bigger processes going on. But just as important is our peripheral nervous system. Our peripheral nervous system is broken into a couple of other pieces and we'll talk about those a little bit right here. So our peripheral nervous system is broken into our autonomic and our somatic systems sorry. Our somatic system is really what controls our voluntary movements. So when you want to move your arm, that is your somatic nervous system doing that. When you go for a run, when you ride a bike, when I'm giving this lecture, using my motor muscles of my mouth and my throat and my tongue to say these things, and I'm gesturing wildly, too, that's my somatic nervous system doing that. These are those voluntary movements of my skeletal muscles. Now my autonomic system is at work here, too. This is doing things like breathing and my heart beating and the function of my organs. These are really those self regulated actions. So these aren't things that you have to think about doing. They just kind of happen. I don't have to think about whether my stomach is digesting my breakfast. It just is doing it right. It's happening. Whereas my somatic system I can control. Now our autonomic system is broken into two pieces as well our sympathetic nervous system, which is our arousing system, and our parasympathetic system, which is our calming system. So our sympathetic nervous system is what happens when you're aroused in some way. And I don't mean just sexually aroused. You can be emotionally aroused. So are you scared? Are you nervous? Are you angry? All of those kinds of things that heightened arousal. Your heart rate goes up, you start to sweat, your digestion slows, your immune system function slows. All of those kinds of things are things that are activated by the sympathetic system. So if you encounter something scary or nervous, this is your sympathetic nervous system. That's making you feel all heightened right now. Once you realize that that thing that you saw wasn't scary at all and it was just nothing else, nothing to worry about, that's when your parasympathetic system will take over and your parasympathetic system will calm you back down. It's going to slow your heart rate. It's going to regulate your breathing. It's going to kind of undo all the things that your sympathetic system did. And so both of these are happening kind of in that autonomic system. You're not thinking about like, oh, I'm scared, so my heart should start beating and I should start sweating, and I should have labor breathing. You don't think about that. That's part of that autonomic system that's happening there. But then the parasympathetic is kind of the response to that. It allows us to calm back down into that comfortable state. Now we're going to spend most of our time in this chapter really talking about the central nervous system, really talking or the somatic nervous, the somatic system in the peripheral nervous system. We're going to spend most of our time talking about that. If you're interested in stress function, if you're interested in how stress affects health, that's covered in that last chapter of the textbook. And that's where you'll spend a lot more time with the autonomic system, especially the sympathetic and the parasympathetic. But we'll also talk about them a little bit when we get to the emotions, because as I said, when you're scared or when you're nervous or you're angry, all of those things, those arousal reactions that you have are part of that sympathetic nervous system. So we have various kinds of cells in our nervous system, and we have two main ones that we're going to talk about. The first is a glial cell, and this really provides support and nutrition. It also serves another function in kind of helping speed up neurons, that speed up the function of neurons, and we'll talk about that a little bit later. Most of our nervous system is made up of neurons. We have about 100 billion in the brain alone, and that's not counting other kind of nervous system cells as well. And they do two different kinds of things, one of which they do we have neurons that just function as information processors. So they do computing. They do communicating. These are kind of mostly what we think about when we think about what our neurons do. We think about, oh, that memory stored on that neuron, and we joke about things like that. Or if you're older and you've forgotten something, oh, well, I must have lost that neuron, right? So that's mostly what we talk about is neurons in these information processing ways. But we now know that neurons also have we have these other kinds of neurons, especially in primates and higher order primates like humans called mirror neurons. And these are really cool neurons that both fire when you do something, but also when you see someone else do something. So if you've ever been around someone who yawns and you weren't needing to yawn at all, but then all of a sudden needed to yawn, this is your mirror neuron system at work. So your mirror neuron system kind of takes over. And this really allows for imitation to work really well. It allows for things like empathy, it allows for things like social perception. Now, neurons all have a basic structure and you are very lucky that you have a model of a neuron attached to your body. So I usually like to use my hand and my arm as an example of a neuron because it helps me kind of remember all the different pieces and the different piece of it. So if you take your arm and you put it out in front of you and you wiggle your fingers, those fingers are your dendrites and these fingers receive information from other neurons. So this is kind of the input. This is like the front door into the neuron, right? This is where the information comes in. Now, the palm of your hand is your cell body. Your cell body is where decisions are made of whether this neuron is going to pass on this information or not, whether this information is going to go on to another neuron, or if it's just going to stay here. And that's happening in your cell body, your soma, which again, can be represented by the palm of your hand. Now we're to your arm and your arm is really represented by the axon. Okay? So this carries the impulse away from the cell body and onto another neuron. This is where the impulse gets travels. Now, these axons can be very long depending on how far away they're communicating with another neuron or because they could be very, very close. It really just depends on the different kinds of connections it makes. Axons are covered with myelin, which is this fatty insulating substance, and it really helps these function better. So again, we talked about the glial cells. These glial cells are what help make up this myelin. And if you think about like your cell phone cord, charger cord, or any cord really, that plastic coating that's on the outside of your cord that keeps that electrical signal in, right, so that none of it gets lost, that you don't get shocked so that your phone can charge really well. And if that starts to peel away, it doesn't charge as well. It's not as effective. Myelin is the same way. Myelin is that fatty substance that's covering that neuron to allow that electrochemical signal to travel smoothly, to speed up and to travel more efficiently. So again, this can increase the speed of information. And at the very end of your axons, we'll kind of think about it as your elbow are your terminal buttons. Now obviously you only have one elbow, but your neurons have more than one terminal button, and these are what carry that information, those neurotransmitters, across to another neuron. Now, the space between two neurons. So if you take your other arm and you kind of stick it at the end of your elbow, so your fingers are kind of a little bit away from your elbow, that space between your elbow and your fingers would be a synapse. It's this space between neurons, and this is where the neurotransmitters go from one neuron to another. Now, your book goes into great detail about neurotransmitters, and neurotransmitters are super important, but this is an intro class, so we're just going to focus on that. We know that this information is carried by neurotransmitters. We know that it's carried from one neuron to another via neurotransmitters. We know the process that it goes through. But the individual neurotransmitters, I'm not going to require you to know the details about that for this class. Okay? So communication within the neuron. So this is all the stuff that's happening within just your fingers, hand and arm, right? So this is the communication within the neuron, and most of this is really happening in that cell body. So first we have that electrochemical transmission, and that's done via neurotransmitters. So again, these neurotransmitters are creating this electrochemical transmission, and this information is being put into the neuron via the dendrites, your fingers, and goes into the cell body. Now, before any of this happens, before any of this information comes in, your neuron is at kind of a resting potential. And if you look at this picture, this is that kind of that first to the left on the graph, that kind of zero to one millisecond time is this resting potential. It's just kind of it's like, hey, yeah, I could send a message. I could have a communication. It's kind of this kind of baseline level that the neuron sits at. Now, these electrochemical transmissions via neurotransmitters change the neuron's charge. If you look at this graph, it says the electrical charge in millivolts. So these neurotransmitters are changing the electrical charge of this neuron, okay? And this changes that neuron's charge. Now, if the neuron gets enough information, gets enough of a change, then it will reach this threshold of excitation, and it will decide whether to have an action potential, whether to fire or not. So an action potential, it operates by this all or none principle. So say the threshold, and this is really simplifying this down extremely. Let's say the threshold was five. Five what? Doesn't matter. Let's say the threshold was five, okay? If you're at 4.99, but you're not at five, then the neuron doesn't fire. So it's either all of it or none of it. Okay? If you're at, say, eight, the neuron is going to fire. It's not going to almost double fire. It's just going to fire. It's this all or none process, okay? So either it fires or it doesn't. It's not necessarily about the exact level. It's about meeting that threshold of excitation. It's about having that action potential. It's about firing. And so, again, it either fires or it doesn't. There's not any, like, half firing or double firing. It either moves that information on via neurotransmitters, or it doesn't. It's an all or none situation. So if it meets that threshold of excitation, it has an action potential. The neuron will fire, and this information will go on to another neuron. If it doesn't meet that threshold of excitation, the neuron won't fire, and that message will die, kind of or end or stop. It won't get transmitted on to another neuron. So this is a picture of two neurons connected. Again, we have the dendrites, your finger, the cell body, your hand, your arm as our axon. And you can see that that impulse moves down. So if your neuron decides to fire, you reach that all, that action potential, that threshold of excitation, that firing will happen, that myelin sheath will speed up that impulse, and it will transfer it on to another neuron. So how communication works between neurons is the presynaptic. So that's the space, the synapse is that space between the neurons, right? So the presynaptic neuron is the first neuron neuron one. Okay? It releases that neurotransmitter. It meets its threshold of excitation. It operates on the action potential of all. And so it releases that neurotransmitter, and it crosses those neurotransmitters, go down the axis, out the terminal buttons, across the synapse, and they stimulate the post synaptic neuron. So the neuron on the other side of that gap, on the other side of that synapse through the dendrites, and the whole process starts again. So if the threshold of excitation is reached in the second neuron, then it fires. And if it doesn't, it doesn't fire. It stopped. Okay? So this communication within neurons is happening in every single neuron, and the communication between neurons is just kind of transferring those neurotransmitters from one neuron to another, transferring this information via these electrochemical signals so that we can pass that information on a little close up of what that looks like. So each of these terminal buttons have if the neuron has fired, what we'll have is this synaptic transmission, where we're going to pass those electrical impulse pulses into this chemical signal into these neurotransmitters, and we're going to share that, or one neuron is going to pass that information on to the other across the synapse. So the terminal button is again at the synapse and reaching out to the dendrites. And this synaptic gap is the space between them. These dendrites are covered in little receptor sites, okay? And so they have receptors for specific neurotransmitters. So, again, while we're not going to get into what the specific neurotransmitters are or what they do know, that there are different kinds and that it is kind of a key and a lock situation. So if you have one neurotransmitter and it's say a square key. It's only going to go on a square lock. And you have another neurotransmitter that's a round key. Well, it's only going to go on a round lock. So we're going to have these receptor sites that are specific to the neurotransmitters that are being released because they are different chemicals. And so not all of these receptor sites will take up all of these chemicals. Okay, so this electrical impulse is converted into it fires, right? And it's converted to this chemical signal. The terminal buttons transfer that information across the synapse into the gap, and then the dendrite receptor sites pick those up. Okay? And again, it's only if the key is right. If only if we have the right lock for the right key, does it pick this up. Sometimes we can have other errors in this transmission as well. Sometimes the receptor sites may not work right. Sometimes they might be absorbing too much. And that's what some of the stuff that we'll talk about when we get to the psychological disorders and especially the therapies chapter when we're looking at how medications affect psychological disorders, because a lot of what's happening with these different medications, these anxiety and depression medicines, things like that is really happening at this neurotransmitter level and is happening at kind of these synaptic gaps. Okay, so reuptake is the reabsorption of the neurotransmitter back into the vesicle. So what doesn't get picked up goes back to the first neuron. Okay? And so again, things like some of the depression medicines that are SSRI, selective serotonin reuptake inhibitors are really working at this level right here, this level where it's keeping that first neuron from reuptaking serotonin in this synaptic gap. Okay? So again, we'll get to those details of that later. But this is the process of which this transmission of information, this electrochemical signal, is happening between the neurons. Now, again, I said that myelin really helps this transmission process work. And again, this insulating fatty material is composed of glial cells. They kind of reach out and wrap around the axons and speed up transmission. And again, it makes this more efficient in the transmission of signals to another neuron. So we're going to watch a little quick video that kind of shows you what that looks like. As the brain develops, the majority of axons become myelinated. In this process, nearby glial cells literally reach out and wrap axons with adjacent segments of a fatty substance that functions as a sort of insulator for the axon membrane. Myelin disrupts the movement of the action potential along the cell membrane. This disruption forces the electrical signal to jump through the axon beneath the surface areas that are insulated by myelin. The electrical charge jumps to the next region on the axon that is not insulated by myelin. So you can see that they kind of would jump across it, would speed it up. And so again, this is kind of how we can have more efficient processing. And notice they said that as the brain develops so some of the differences that we'll see between children, various aged children, infants, older kids, adults, these sort of things, is this myelination is more efficient processing of these electrochemical transmission signals. And we'll talk about that a little bit more when we get to our discussion of the brain. Thanks so much.\n"
          ]
        }
      ]
    },
    {
      "cell_type": "markdown",
      "source": [
        "**ClarifAI getting MCQs**"
      ],
      "metadata": {
        "id": "_Y74mHimUIwZ"
      }
    },
    {
      "cell_type": "code",
      "source": [
        "!pip install clarifai -q"
      ],
      "metadata": {
        "colab": {
          "base_uri": "https://localhost:8080/"
        },
        "id": "-AZr_R1Se4eK",
        "outputId": "25f5ca8e-4297-4381-fd15-8b6b31a79a7f"
      },
      "execution_count": 10,
      "outputs": [
        {
          "output_type": "stream",
          "name": "stdout",
          "text": [
            "\u001b[?25l     \u001b[90m━━━━━━━━━━━━━━━━━━━━━━━━━━━━━━━━━━━━━━━━\u001b[0m \u001b[32m0.0/2.5 MB\u001b[0m \u001b[31m?\u001b[0m eta \u001b[36m-:--:--\u001b[0m\r\u001b[2K     \u001b[91m━━━━━━━━━━━━━━\u001b[0m\u001b[91m╸\u001b[0m\u001b[90m━━━━━━━━━━━━━━━━━━━━━━━━━\u001b[0m \u001b[32m0.9/2.5 MB\u001b[0m \u001b[31m27.3 MB/s\u001b[0m eta \u001b[36m0:00:01\u001b[0m\r\u001b[2K     \u001b[90m━━━━━━━━━━━━━━━━━━━━━━━━━━━━━━━━━━━━━━━━\u001b[0m \u001b[32m2.5/2.5 MB\u001b[0m \u001b[31m39.4 MB/s\u001b[0m eta \u001b[36m0:00:00\u001b[0m\n",
            "\u001b[2K     \u001b[90m━━━━━━━━━━━━━━━━━━━━━━━━━━━━━━━━━━━━━━\u001b[0m \u001b[32m216.9/216.9 kB\u001b[0m \u001b[31m23.3 MB/s\u001b[0m eta \u001b[36m0:00:00\u001b[0m\n",
            "\u001b[2K     \u001b[90m━━━━━━━━━━━━━━━━━━━━━━━━━━━━━━━━━━━━━━━━\u001b[0m \u001b[32m12.3/12.3 MB\u001b[0m \u001b[31m70.1 MB/s\u001b[0m eta \u001b[36m0:00:00\u001b[0m\n",
            "\u001b[2K     \u001b[90m━━━━━━━━━━━━━━━━━━━━━━━━━━━━━━━━━━━━━━━━\u001b[0m \u001b[32m78.5/78.5 kB\u001b[0m \u001b[31m7.8 MB/s\u001b[0m eta \u001b[36m0:00:00\u001b[0m\n",
            "\u001b[2K     \u001b[90m━━━━━━━━━━━━━━━━━━━━━━━━━━━━━━━━━━━━━━\u001b[0m \u001b[32m239.4/239.4 kB\u001b[0m \u001b[31m21.8 MB/s\u001b[0m eta \u001b[36m0:00:00\u001b[0m\n",
            "\u001b[2K     \u001b[90m━━━━━━━━━━━━━━━━━━━━━━━━━━━━━━━━━━━━━━━━\u001b[0m \u001b[32m1.7/1.7 MB\u001b[0m \u001b[31m79.3 MB/s\u001b[0m eta \u001b[36m0:00:00\u001b[0m\n",
            "\u001b[?25h"
          ]
        }
      ]
    },
    {
      "cell_type": "code",
      "source": [
        "\n",
        "original_string = \"\"\"{text}\n",
        "\n",
        "The text provided above is a transcribed text from an educational video lecture. Your job is to act as a teacher, creating a test using the transcribed video lecture text. The test should contain only multiple choice questions with 4 possible answers to each question and there need to be 10 questions in total. The test is to be made using the information provided only in the transcribed text. You are not supposed to create questions using context outside of the transcribed test. You must also not provide false information as it can ruin the academic integrity of the institution that you are employed at.\n",
        "Your response must be in the form of an array, where the 0th index is the question number, 1st index is the question, 2nd index is the first choice, 3rd index is the second choice, 4th index is the third choice, 5th index is the fourth choice, 6th index is the index number of the correct answer. Below provided is an example array that you must give your response as. You are supposed to only provide me the response in accordance to the format stated below.\n",
        "An example array:\n",
        "[[1, \"What is the capital of Pakistan?\", \"Karachi\", \"Lahore\", \"Islamabad\", \"Peshawar\", 4], [2, \"How many kidneys does a human have?\", \"1\", \"2\", \"3\", \"4\", 3]]\n",
        "\n",
        "Give me the result in the form of an array as stated in my question above.\"\"\"\n",
        "replacement_text = transcript.text\n",
        "\n",
        "# Replace \"{text}\" with the replacement_text\n",
        "prompt = original_string.replace(\"{text}\", replacement_text)\n",
        "\n",
        "print(prompt)\n",
        "\n",
        "\n",
        "######################################################################################################\n",
        "# In this section, we set the user authentication, user and app ID, model details, and the URL of\n",
        "# the text we want as an input. Change these strings to run your own example.\n",
        "######################################################################################################\n",
        "\n",
        "# Your PAT (Personal Access Token) can be found in the portal under Authentification\n",
        "PAT = '584b27700a0e462db5fa79e7b141bd07'\n",
        "# Specify the correct user_id/app_id pairings\n",
        "# Since you're making inferences outside your app's scope\n",
        "USER_ID = 'openai'\n",
        "APP_ID = 'chat-completion'\n",
        "# Change these to whatever model and text URL you want to use\n",
        "MODEL_ID = 'GPT-4'\n",
        "MODEL_VERSION_ID = 'ad16eda6ac054796bf9f348ab6733c72'\n",
        "RAW_TEXT = prompt\n",
        "# To use a hosted text file, assign the url variable\n",
        "# TEXT_FILE_URL = 'https://samples.clarifai.com/negative_sentence_12.txt'\n",
        "# Or, to use a local text file, assign the url variable\n",
        "# TEXT_FILE_LOCATION = 'YOUR_TEXT_FILE_LOCATION_HERE'\n",
        "\n",
        "############################################################################\n",
        "# YOU DO NOT NEED TO CHANGE ANYTHING BELOW THIS LINE TO RUN THIS EXAMPLE\n",
        "############################################################################\n",
        "\n",
        "from clarifai_grpc.channel.clarifai_channel import ClarifaiChannel\n",
        "from clarifai_grpc.grpc.api import resources_pb2, service_pb2, service_pb2_grpc\n",
        "from clarifai_grpc.grpc.api.status import status_code_pb2\n",
        "\n",
        "channel = ClarifaiChannel.get_grpc_channel()\n",
        "stub = service_pb2_grpc.V2Stub(channel)\n",
        "\n",
        "metadata = (('authorization', 'Key ' + PAT),)\n",
        "\n",
        "userDataObject = resources_pb2.UserAppIDSet(user_id=USER_ID, app_id=APP_ID)\n",
        "\n",
        "# To use a local text file, uncomment the following lines\n",
        "# with open(TEXT_FILE_LOCATION, \"rb\") as f:\n",
        "#    file_bytes = f.read()\n",
        "\n",
        "post_model_outputs_response = stub.PostModelOutputs(\n",
        "    service_pb2.PostModelOutputsRequest(\n",
        "        user_app_id=userDataObject,  # The userDataObject is created in the overview and is required when using a PAT\n",
        "        model_id=MODEL_ID,\n",
        "        version_id=MODEL_VERSION_ID,  # This is optional. Defaults to the latest model version\n",
        "        inputs=[\n",
        "            resources_pb2.Input(\n",
        "                data=resources_pb2.Data(\n",
        "                    text=resources_pb2.Text(\n",
        "                        raw=RAW_TEXT\n",
        "                        # url=TEXT_FILE_URL\n",
        "                        # raw=file_bytes\n",
        "                    )\n",
        "                )\n",
        "            )\n",
        "        ]\n",
        "    ),\n",
        "    metadata=metadata\n",
        ")\n",
        "if post_model_outputs_response.status.code != status_code_pb2.SUCCESS:\n",
        "    print(post_model_outputs_response.status)\n",
        "    raise Exception(f\"Post model outputs failed, status: {post_model_outputs_response.status.description}\")\n",
        "\n",
        "# Since we have one input, one output will exist here\n",
        "output = post_model_outputs_response.outputs[0]\n",
        "\n",
        "print(\"Completion:\\n\")\n",
        "print(output.data.text.raw)\n"
      ],
      "metadata": {
        "colab": {
          "base_uri": "https://localhost:8080/"
        },
        "id": "EQEjRYgQUIfc",
        "outputId": "19fb4d32-f35a-4d6e-a9da-05aea6b5383b"
      },
      "execution_count": 12,
      "outputs": [
        {
          "output_type": "stream",
          "name": "stdout",
          "text": [
            "Hi, Kristen Atchison here, and we are talking about our chapter on brain behavior. Specifically, in this lecture, we're going to talk about the nervous system and neurons. So first, some kind of overarching neurological stuff, some stuff about the nervous system. We have two pathways that carry information. The first one is afferent, and that carries information from our body to our brain. So these are nerves that carry information, say from our fingers to our brain. They're going towards the brain, whereas efferent nerves go from our brain towards our fingers. So we have two different pathways of information. Kind of think of it like a divided highway, right? And you have like an east going and a west going. It's the same thing. We have afferent nerves and we have afferent nerves. We also have divisions within our nervous system as a whole. We have the central nervous system that we'll spend more time talking about when we talk about the brain. And that is made up of our brain and our spinal cord. So that has a lot of bigger processes going on. But just as important is our peripheral nervous system. Our peripheral nervous system is broken into a couple of other pieces and we'll talk about those a little bit right here. So our peripheral nervous system is broken into our autonomic and our somatic systems sorry. Our somatic system is really what controls our voluntary movements. So when you want to move your arm, that is your somatic nervous system doing that. When you go for a run, when you ride a bike, when I'm giving this lecture, using my motor muscles of my mouth and my throat and my tongue to say these things, and I'm gesturing wildly, too, that's my somatic nervous system doing that. These are those voluntary movements of my skeletal muscles. Now my autonomic system is at work here, too. This is doing things like breathing and my heart beating and the function of my organs. These are really those self regulated actions. So these aren't things that you have to think about doing. They just kind of happen. I don't have to think about whether my stomach is digesting my breakfast. It just is doing it right. It's happening. Whereas my somatic system I can control. Now our autonomic system is broken into two pieces as well our sympathetic nervous system, which is our arousing system, and our parasympathetic system, which is our calming system. So our sympathetic nervous system is what happens when you're aroused in some way. And I don't mean just sexually aroused. You can be emotionally aroused. So are you scared? Are you nervous? Are you angry? All of those kinds of things that heightened arousal. Your heart rate goes up, you start to sweat, your digestion slows, your immune system function slows. All of those kinds of things are things that are activated by the sympathetic system. So if you encounter something scary or nervous, this is your sympathetic nervous system. That's making you feel all heightened right now. Once you realize that that thing that you saw wasn't scary at all and it was just nothing else, nothing to worry about, that's when your parasympathetic system will take over and your parasympathetic system will calm you back down. It's going to slow your heart rate. It's going to regulate your breathing. It's going to kind of undo all the things that your sympathetic system did. And so both of these are happening kind of in that autonomic system. You're not thinking about like, oh, I'm scared, so my heart should start beating and I should start sweating, and I should have labor breathing. You don't think about that. That's part of that autonomic system that's happening there. But then the parasympathetic is kind of the response to that. It allows us to calm back down into that comfortable state. Now we're going to spend most of our time in this chapter really talking about the central nervous system, really talking or the somatic nervous, the somatic system in the peripheral nervous system. We're going to spend most of our time talking about that. If you're interested in stress function, if you're interested in how stress affects health, that's covered in that last chapter of the textbook. And that's where you'll spend a lot more time with the autonomic system, especially the sympathetic and the parasympathetic. But we'll also talk about them a little bit when we get to the emotions, because as I said, when you're scared or when you're nervous or you're angry, all of those things, those arousal reactions that you have are part of that sympathetic nervous system. So we have various kinds of cells in our nervous system, and we have two main ones that we're going to talk about. The first is a glial cell, and this really provides support and nutrition. It also serves another function in kind of helping speed up neurons, that speed up the function of neurons, and we'll talk about that a little bit later. Most of our nervous system is made up of neurons. We have about 100 billion in the brain alone, and that's not counting other kind of nervous system cells as well. And they do two different kinds of things, one of which they do we have neurons that just function as information processors. So they do computing. They do communicating. These are kind of mostly what we think about when we think about what our neurons do. We think about, oh, that memory stored on that neuron, and we joke about things like that. Or if you're older and you've forgotten something, oh, well, I must have lost that neuron, right? So that's mostly what we talk about is neurons in these information processing ways. But we now know that neurons also have we have these other kinds of neurons, especially in primates and higher order primates like humans called mirror neurons. And these are really cool neurons that both fire when you do something, but also when you see someone else do something. So if you've ever been around someone who yawns and you weren't needing to yawn at all, but then all of a sudden needed to yawn, this is your mirror neuron system at work. So your mirror neuron system kind of takes over. And this really allows for imitation to work really well. It allows for things like empathy, it allows for things like social perception. Now, neurons all have a basic structure and you are very lucky that you have a model of a neuron attached to your body. So I usually like to use my hand and my arm as an example of a neuron because it helps me kind of remember all the different pieces and the different piece of it. So if you take your arm and you put it out in front of you and you wiggle your fingers, those fingers are your dendrites and these fingers receive information from other neurons. So this is kind of the input. This is like the front door into the neuron, right? This is where the information comes in. Now, the palm of your hand is your cell body. Your cell body is where decisions are made of whether this neuron is going to pass on this information or not, whether this information is going to go on to another neuron, or if it's just going to stay here. And that's happening in your cell body, your soma, which again, can be represented by the palm of your hand. Now we're to your arm and your arm is really represented by the axon. Okay? So this carries the impulse away from the cell body and onto another neuron. This is where the impulse gets travels. Now, these axons can be very long depending on how far away they're communicating with another neuron or because they could be very, very close. It really just depends on the different kinds of connections it makes. Axons are covered with myelin, which is this fatty insulating substance, and it really helps these function better. So again, we talked about the glial cells. These glial cells are what help make up this myelin. And if you think about like your cell phone cord, charger cord, or any cord really, that plastic coating that's on the outside of your cord that keeps that electrical signal in, right, so that none of it gets lost, that you don't get shocked so that your phone can charge really well. And if that starts to peel away, it doesn't charge as well. It's not as effective. Myelin is the same way. Myelin is that fatty substance that's covering that neuron to allow that electrochemical signal to travel smoothly, to speed up and to travel more efficiently. So again, this can increase the speed of information. And at the very end of your axons, we'll kind of think about it as your elbow are your terminal buttons. Now obviously you only have one elbow, but your neurons have more than one terminal button, and these are what carry that information, those neurotransmitters, across to another neuron. Now, the space between two neurons. So if you take your other arm and you kind of stick it at the end of your elbow, so your fingers are kind of a little bit away from your elbow, that space between your elbow and your fingers would be a synapse. It's this space between neurons, and this is where the neurotransmitters go from one neuron to another. Now, your book goes into great detail about neurotransmitters, and neurotransmitters are super important, but this is an intro class, so we're just going to focus on that. We know that this information is carried by neurotransmitters. We know that it's carried from one neuron to another via neurotransmitters. We know the process that it goes through. But the individual neurotransmitters, I'm not going to require you to know the details about that for this class. Okay? So communication within the neuron. So this is all the stuff that's happening within just your fingers, hand and arm, right? So this is the communication within the neuron, and most of this is really happening in that cell body. So first we have that electrochemical transmission, and that's done via neurotransmitters. So again, these neurotransmitters are creating this electrochemical transmission, and this information is being put into the neuron via the dendrites, your fingers, and goes into the cell body. Now, before any of this happens, before any of this information comes in, your neuron is at kind of a resting potential. And if you look at this picture, this is that kind of that first to the left on the graph, that kind of zero to one millisecond time is this resting potential. It's just kind of it's like, hey, yeah, I could send a message. I could have a communication. It's kind of this kind of baseline level that the neuron sits at. Now, these electrochemical transmissions via neurotransmitters change the neuron's charge. If you look at this graph, it says the electrical charge in millivolts. So these neurotransmitters are changing the electrical charge of this neuron, okay? And this changes that neuron's charge. Now, if the neuron gets enough information, gets enough of a change, then it will reach this threshold of excitation, and it will decide whether to have an action potential, whether to fire or not. So an action potential, it operates by this all or none principle. So say the threshold, and this is really simplifying this down extremely. Let's say the threshold was five. Five what? Doesn't matter. Let's say the threshold was five, okay? If you're at 4.99, but you're not at five, then the neuron doesn't fire. So it's either all of it or none of it. Okay? If you're at, say, eight, the neuron is going to fire. It's not going to almost double fire. It's just going to fire. It's this all or none process, okay? So either it fires or it doesn't. It's not necessarily about the exact level. It's about meeting that threshold of excitation. It's about having that action potential. It's about firing. And so, again, it either fires or it doesn't. There's not any, like, half firing or double firing. It either moves that information on via neurotransmitters, or it doesn't. It's an all or none situation. So if it meets that threshold of excitation, it has an action potential. The neuron will fire, and this information will go on to another neuron. If it doesn't meet that threshold of excitation, the neuron won't fire, and that message will die, kind of or end or stop. It won't get transmitted on to another neuron. So this is a picture of two neurons connected. Again, we have the dendrites, your finger, the cell body, your hand, your arm as our axon. And you can see that that impulse moves down. So if your neuron decides to fire, you reach that all, that action potential, that threshold of excitation, that firing will happen, that myelin sheath will speed up that impulse, and it will transfer it on to another neuron. So how communication works between neurons is the presynaptic. So that's the space, the synapse is that space between the neurons, right? So the presynaptic neuron is the first neuron neuron one. Okay? It releases that neurotransmitter. It meets its threshold of excitation. It operates on the action potential of all. And so it releases that neurotransmitter, and it crosses those neurotransmitters, go down the axis, out the terminal buttons, across the synapse, and they stimulate the post synaptic neuron. So the neuron on the other side of that gap, on the other side of that synapse through the dendrites, and the whole process starts again. So if the threshold of excitation is reached in the second neuron, then it fires. And if it doesn't, it doesn't fire. It stopped. Okay? So this communication within neurons is happening in every single neuron, and the communication between neurons is just kind of transferring those neurotransmitters from one neuron to another, transferring this information via these electrochemical signals so that we can pass that information on a little close up of what that looks like. So each of these terminal buttons have if the neuron has fired, what we'll have is this synaptic transmission, where we're going to pass those electrical impulse pulses into this chemical signal into these neurotransmitters, and we're going to share that, or one neuron is going to pass that information on to the other across the synapse. So the terminal button is again at the synapse and reaching out to the dendrites. And this synaptic gap is the space between them. These dendrites are covered in little receptor sites, okay? And so they have receptors for specific neurotransmitters. So, again, while we're not going to get into what the specific neurotransmitters are or what they do know, that there are different kinds and that it is kind of a key and a lock situation. So if you have one neurotransmitter and it's say a square key. It's only going to go on a square lock. And you have another neurotransmitter that's a round key. Well, it's only going to go on a round lock. So we're going to have these receptor sites that are specific to the neurotransmitters that are being released because they are different chemicals. And so not all of these receptor sites will take up all of these chemicals. Okay, so this electrical impulse is converted into it fires, right? And it's converted to this chemical signal. The terminal buttons transfer that information across the synapse into the gap, and then the dendrite receptor sites pick those up. Okay? And again, it's only if the key is right. If only if we have the right lock for the right key, does it pick this up. Sometimes we can have other errors in this transmission as well. Sometimes the receptor sites may not work right. Sometimes they might be absorbing too much. And that's what some of the stuff that we'll talk about when we get to the psychological disorders and especially the therapies chapter when we're looking at how medications affect psychological disorders, because a lot of what's happening with these different medications, these anxiety and depression medicines, things like that is really happening at this neurotransmitter level and is happening at kind of these synaptic gaps. Okay, so reuptake is the reabsorption of the neurotransmitter back into the vesicle. So what doesn't get picked up goes back to the first neuron. Okay? And so again, things like some of the depression medicines that are SSRI, selective serotonin reuptake inhibitors are really working at this level right here, this level where it's keeping that first neuron from reuptaking serotonin in this synaptic gap. Okay? So again, we'll get to those details of that later. But this is the process of which this transmission of information, this electrochemical signal, is happening between the neurons. Now, again, I said that myelin really helps this transmission process work. And again, this insulating fatty material is composed of glial cells. They kind of reach out and wrap around the axons and speed up transmission. And again, it makes this more efficient in the transmission of signals to another neuron. So we're going to watch a little quick video that kind of shows you what that looks like. As the brain develops, the majority of axons become myelinated. In this process, nearby glial cells literally reach out and wrap axons with adjacent segments of a fatty substance that functions as a sort of insulator for the axon membrane. Myelin disrupts the movement of the action potential along the cell membrane. This disruption forces the electrical signal to jump through the axon beneath the surface areas that are insulated by myelin. The electrical charge jumps to the next region on the axon that is not insulated by myelin. So you can see that they kind of would jump across it, would speed it up. And so again, this is kind of how we can have more efficient processing. And notice they said that as the brain develops so some of the differences that we'll see between children, various aged children, infants, older kids, adults, these sort of things, is this myelination is more efficient processing of these electrochemical transmission signals. And we'll talk about that a little bit more when we get to our discussion of the brain. Thanks so much. \n",
            "\n",
            "The text provided above is a transcribed text from an educational video lecture. Your job is to act as a teacher, creating a test using the transcribed video lecture text. The test should contain only multiple choice questions with 4 possible answers to each question and there need to be 10 questions in total. The test is to be made using the information provided only in the transcribed text. You are not supposed to create questions using context outside of the transcribed test. You must also not provide false information as it can ruin the academic integrity of the institution that you are employed at.\n",
            "Your response must be in the form of an array, where the 0th index is the question number, 1st index is the question, 2nd index is the first choice, 3rd index is the second choice, 4th index is the third choice, 5th index is the fourth choice, 6th index is the index number of the correct answer. Below provided is an example array that you must give your response as. You are supposed to only provide me the response in accordance to the format stated below.\n",
            "An example array:\n",
            "[[1, \"What is the capital of Pakistan?\", \"Karachi\", \"Lahore\", \"Islamabad\", \"Peshawar\", 4], [2, \"How many kidneys does a human have?\", \"1\", \"2\", \"3\", \"4\", 3]]\n",
            "\n",
            "Give me the result in the form of an array as stated in my question above.\n",
            "Completion:\n",
            "\n",
            "[[1, \"What carries information from our body to our brain?\", \"Afferent nerves\", \"Efferent nerves\", \"Both afferent and efferent nerves\", \"Neither afferent nor efferent nerves\", 1], [2, \"What controls our voluntary movements?\", \"Somatic system\", \"Autonomic system\", \"Sympathetic system\", \"Parasympathetic system\", 1], [3, \"Which system is our arousing system and prepares us in stressful or dangerous situations?\", \"Somatic system\", \"Autonomic system\", \"Sympathetic system\", \"Parasympathetic system\", 3], [4, \"What are mirror neurons?\", \"Neurons that only fire when you see someone do something\", \"Neurons that only fire when you do something\", \"Neurons that fire when you do something and when you see someone else do it\", \"None of the above\", 3], [5, \"What part of the neuron receives information from other neurons?\", \"Dendrites\", \"Axon\", \"Cell body\", \"Terminal buttons\", 1], [6, \"What part of the neuron carries the impulse away from the cell body?\", \"Dendrites\", \"Axon\", \"Cell body\", \"Terminal buttons\", 2], [7, \"What is the all or none principle in terms of neurons?\", \"Neurons either fire at full strength or they do not fire at all\", \"Neurons can fire at various strengths\", \"Neurons always fire at full strength\", \"Neurons never fire at all\", 1], [8, \"What is the role of myelin in a neuron?\", \"It increases the transmission speed of information\", \"It slows down the transmission of information\", \"It prevents transmission of information\", \"It has no role in information transmission\", 1], [9, \"What happens during synaptic transmission?\", \"Neurotransmitters get released and cross the synapse\", \"Neurotransmitters get reabsorbed by the vesicle\", \"Neurotransmitters stay inside the terminal buttons\", \"Neurotransmitters get destroyed\", 1], [10, \"What is reuptake?\", \"The reabsorption of neurotransmitter back into the vesicle\", \"The release of neurotransmitters into the synapse\", \"The formation of new neurotransmitters\", \"The destruction of old neurotransmitters\", 1]]\n"
          ]
        }
      ]
    }
  ]
}